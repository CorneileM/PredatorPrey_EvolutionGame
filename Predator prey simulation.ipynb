{
 "cells": [
  {
   "cell_type": "markdown",
   "metadata": {},
   "source": [
    "# Jupyter notebook"
   ]
  },
  {
   "cell_type": "markdown",
   "metadata": {},
   "source": [
    "Import packages and set up the field for the predator and prey to move in."
   ]
  },
  {
   "cell_type": "code",
   "execution_count": 4,
   "metadata": {},
   "outputs": [],
   "source": [
    "import numpy as np\n",
    "import matplotlib.pyplot as plt\n",
    "\n",
    "# Set up a square array which will represent the field available to the predator and prey\n",
    "array_size = 3000\n",
    "array = np.zeros((array_size, array_size))"
   ]
  },
  {
   "cell_type": "markdown",
   "metadata": {},
   "source": [
    "## PREY STARTING CONDITIONS\n",
    "Set up the prey's starting position, the prey's starting velocity, and the prey's predator detection distance."
   ]
  },
  {
   "cell_type": "code",
   "execution_count": 5,
   "metadata": {},
   "outputs": [
    {
     "data": {
      "image/png": "[encoded data removed]",
      "text/plain": [
       "<Figure size 640x480 with 1 Axes>"
      ]
     },
     "metadata": {},
     "output_type": "display_data"
    }
   ],
   "source": [
    "### PREY ###\n",
    "# Set up a random starting position (x,y) in the array for the prey\n",
    "# random number between 1 and 3000\n",
    "x = np.random.randint(1, array_size )\n",
    "y = np.random.randint(1, array_size)\n",
    "x, y = (x, y)\n",
    "\n",
    "\n",
    "# Set up a random direction for the walker to move in\n",
    "direction = np.random.choice(['up', 'down', 'left', 'right'])\n",
    "if direction == 'up':\n",
    "    x, y = (x, y+1)\n",
    "elif direction == 'down':\n",
    "    x, y = (x, y-1)\n",
    "elif direction == 'left':\n",
    "    x, y = (x-1, y)\n",
    "elif direction == 'right':\n",
    "    x, y = (x+1, y)\n",
    "\n",
    "# Set up a loop to move the walker in a random direction\n",
    "for i in range(10000):\n",
    "    direction = np.random.choice(['up', 'down', 'left', 'right'])\n",
    "    if direction == 'up':\n",
    "        x, y = (x, y+1)\n",
    "    elif direction == 'down':\n",
    "        x, y = (x, y-1)\n",
    "    elif direction == 'left':\n",
    "        x, y = (x-1, y)\n",
    "    elif direction == 'right':\n",
    "        x, y = (x+1, y)\n",
    "    array[x, y] += 1\n",
    "    # Print the array at \n",
    "\n",
    "# Print the final array as a raster image\n",
    "plt.imshow(array, cmap='hot', interpolation='nearest')\n",
    "plt.show()\n",
    "\n"
   ]
  }
 ],
 "metadata": {
  "kernelspec": {
   "display_name": "Python 3",
   "language": "python",
   "name": "python3"
  },
  "language_info": {
   "codemirror_mode": {
    "name": "ipython",
    "version": 3
   },
   "file_extension": ".py",
   "mimetype": "text/x-python",
   "name": "python",
   "nbconvert_exporter": "python",
   "pygments_lexer": "ipython3",
   "version": "3.11.7"
  }
 },
 "nbformat": 4,
 "nbformat_minor": 2
}
