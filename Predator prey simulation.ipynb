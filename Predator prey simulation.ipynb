{
 "cells": [
  {
   "cell_type": "markdown",
   "metadata": {},
   "source": [
    "# Jupyter notebook"
   ]
  },
  {
   "cell_type": "markdown",
   "metadata": {},
   "source": [
    "Import packages and set up the field for the predator and prey to move in."
   ]
  },
  {
   "cell_type": "code",
   "execution_count": 3,
   "metadata": {},
   "outputs": [
    {
     "ename": "ImportError",
     "evalue": "DLL load failed while importing cv2: The specified module could not be found.",
     "output_type": "error",
     "traceback": [
      "\u001b[1;31m---------------------------------------------------------------------------\u001b[0m",
      "\u001b[1;31mImportError\u001b[0m                               Traceback (most recent call last)",
      "Cell \u001b[1;32mIn[3], line 4\u001b[0m\n\u001b[0;32m      2\u001b[0m \u001b[38;5;28;01mimport\u001b[39;00m \u001b[38;5;21;01mmatplotlib\u001b[39;00m\u001b[38;5;21;01m.\u001b[39;00m\u001b[38;5;21;01mpyplot\u001b[39;00m \u001b[38;5;28;01mas\u001b[39;00m \u001b[38;5;21;01mplt\u001b[39;00m\n\u001b[0;32m      3\u001b[0m \u001b[38;5;28;01mfrom\u001b[39;00m \u001b[38;5;21;01mPIL\u001b[39;00m \u001b[38;5;28;01mimport\u001b[39;00m Image\n\u001b[1;32m----> 4\u001b[0m \u001b[38;5;28;01mimport\u001b[39;00m \u001b[38;5;21;01mcv2\u001b[39;00m\n\u001b[0;32m      6\u001b[0m \u001b[38;5;66;03m# Set up a square array which will represent the field available to the predator and prey\u001b[39;00m\n\u001b[0;32m      7\u001b[0m array_size \u001b[38;5;241m=\u001b[39m \u001b[38;5;241m1000\u001b[39m\n",
      "\u001b[1;31mImportError\u001b[0m: DLL load failed while importing cv2: The specified module could not be found."
     ]
    }
   ],
   "source": [
    "import numpy as np\n",
    "import matplotlib.pyplot as plt\n",
    "from PIL import Image\n",
    "from opencv import cv2\n",
    "\n",
    "# Set up a square array which will represent the field available to the predator and prey\n",
    "array_size = 1000\n",
    "prey_array_R = np.zeros((array_size, array_size))\n",
    "pred_array_G = np.zeros((array_size, array_size))\n",
    "land_array_B = np.zeros((array_size, array_size))\n",
    "\n",
    "\n",
    "# Read the image (replace 'my_image.jpg' with your image path)\n",
    "img = cv2.imread(\"my_image.jpg\", cv2.IMREAD_ANYCOLOR)\n",
    "\n",
    "# Create an empty RGB array\n",
    "rgbArray = np.zeros((array_size, array_size, 3), dtype='uint8')\n",
    "rgbArray[..., 0] = prey_array_R * 256\n",
    "rgbArray[..., 1] = pred_array_G * 256\n",
    "rgbArray[..., 2] = land_array_B * 256\n",
    "\n",
    "# Convert the array to an image\n",
    "rgbArray_img = Image.fromarray(rgbArray)\n",
    "\n",
    "# Save the image (e.g., as 'myimg.jpeg') overwrite the image each time\n",
    "rgbArray_img.save('rgbArray_img.jpeg')\n"
   ]
  },
  {
   "cell_type": "markdown",
   "metadata": {},
   "source": [
    "## PREY STARTING CONDITIONS\n",
    "Set up the prey's starting position, the prey's starting velocity, and the prey's predator detection distance."
   ]
  },
  {
   "cell_type": "code",
   "execution_count": 23,
   "metadata": {},
   "outputs": [
    {
     "data": {
      "image/png": "[encoded data removed]",
      "text/plain": [
       "<Figure size 640x480 with 1 Axes>"
      ]
     },
     "metadata": {},
     "output_type": "display_data"
    },
    {
     "name": "stdout",
     "output_type": "stream",
     "text": [
      "0.0\n"
     ]
    }
   ],
   "source": [
    "### PREY ###\n",
    "# Prey parameters\n",
    "walking_speed = 3\n",
    "\n",
    "# Set up a random starting position (x,y) in the array for the prey\n",
    "# random number between 1 and array_size\n",
    "x = np.random.randint(1, array_size )\n",
    "y = np.random.randint(1, array_size)\n",
    "x, y = (x, y)\n",
    "\n",
    "# Set up a loop to move the walker in a random direction\n",
    "for i in range(100000):\n",
    "    direction = np.random.choice(['up', 'down', 'left', 'right'])\n",
    "    if direction == 'up':\n",
    "        x, y = (x, y+walking_speed)\n",
    "    elif direction == 'down':\n",
    "        x, y = (x, y-walking_speed)\n",
    "    elif direction == 'left':\n",
    "        x, y = (x-walking_speed, y)\n",
    "    elif direction == 'right':\n",
    "        x, y = (x+walking_speed, y)\n",
    "    # If the walker reaches the edge of the array on either side, it will turn around and move in the opposite direction\n",
    "    if x > array_size:\n",
    "        x = x - walking_speed\n",
    "    elif x < 0:\n",
    "        x = x + walking_speed\n",
    "    elif y > array_size:\n",
    "        y = y - walking_speed\n",
    "    elif y < 0:\n",
    "        y = y + walking_speed\n",
    "    # Add 1 to the array at the new position of the prey if the position equals zero, else add 1 to the position\n",
    "    prey_array_R[x, y] == 1\n",
    "\n",
    "    # Create an empty RGB array\n",
    "    rgbArray[..., 0] = prey_array_R * 256\n",
    "    rgbArray[..., 1] = pred_array_G * 256\n",
    "    rgbArray[..., 2] = land_array_B * 256\n",
    "\n",
    "    # Convert the array to an image\n",
    "    rgbArray_img = Image.fromarray(rgbArray)\n",
    "\n",
    "    # Display the modified image\n",
    "    cv2.imshow(\"Modified Image\", rgbArray_img)\n",
    "\n",
    "    # Wait for a key press (0 means wait indefinitely)\n",
    "    key = cv2.waitKey(0)\n",
    "\n",
    "    # Press 'Esc' to exit the loop\n",
    "    if key == 27:\n",
    "        break\n",
    "\n",
    "# Close the window\n",
    "cv2.destroyAllWindows()\n",
    "\n",
    "    \n",
    "\n",
    "    \n",
    "\n",
    "\n",
    "\n",
    "\n",
    "\n",
    "\n",
    "\n",
    "\n",
    "\n",
    "\n",
    "\n"
   ]
  }
 ],
 "metadata": {
  "kernelspec": {
   "display_name": "Python 3",
   "language": "python",
   "name": "python3"
  },
  "language_info": {
   "codemirror_mode": {
    "name": "ipython",
    "version": 3
   },
   "file_extension": ".py",
   "mimetype": "text/x-python",
   "name": "python",
   "nbconvert_exporter": "python",
   "pygments_lexer": "ipython3",
   "version": "3.11.7"
  }
 },
 "nbformat": 4,
 "nbformat_minor": 2
}
